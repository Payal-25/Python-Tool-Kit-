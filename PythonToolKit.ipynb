{
  "cells": [
    {
      "cell_type": "markdown",
      "metadata": {
        "id": "mg6JvUh7jnfE"
      },
      "source": [
        "PYTHON TOOLKIT"
      ]
    },
    {
      "cell_type": "code",
      "execution_count": null,
      "metadata": {
        "id": "fFjcoZ0_jtVw",
        "colab": {
          "base_uri": "https://localhost:8080/"
        },
        "outputId": "8265edfb-112f-46e3-ea11-5b856c673728"
      },
      "outputs": [
        {
          "name": "stdout",
          "output_type": "stream",
          "text": [
            "Select any one option\n",
            "1. Add\n",
            " 2. Subtract\n",
            " 3. Multiply\n",
            " 4. Division\n",
            "Enter option (1/2/3/4) :  1\n",
            "Enter num1 : 12\n",
            "Enter num2 : 0\n",
            "12.0 + 0.0 :  12.0\n",
            "continue calculation ? : , (yes/no):  no\n"
          ]
        }
      ],
      "source": [
        "#Calculator\n",
        "\n",
        "def add(num1, num2):\n",
        "    return num1 + num2\n",
        "\n",
        "def subtract(num1,num2):\n",
        "    return num1 - num2\n",
        "\n",
        "def multiply(num1, num2):\n",
        "    return num1 * num2\n",
        "\n",
        "def division(num1, num2):\n",
        "    return num1 / num2\n",
        "\n",
        "print(\"Select any one option\")\n",
        "print(\"1. Add\\n\", \"2. Subtract\\n\", \"3. Multiply\\n\", \"4. Division\")\n",
        "\n",
        "\n",
        "while True:\n",
        "\n",
        "    option = input(\"Enter option (1/2/3/4) :  \")\n",
        "\n",
        "    if option in ('1', '2', '3', '4'):\n",
        "        try:\n",
        "           num1 = float(input(\"Enter num1 : \"))\n",
        "           num2 = float(input(\"Enter num2 : \"))\n",
        "        except ValueError:\n",
        "            print(\"Invalid inuput. Enter a number : \")\n",
        "            continue\n",
        "\n",
        "        if option == '1':\n",
        "            print(num1, \"+\", num2 , \": \", add(num1, num2))\n",
        "\n",
        "        elif option == '2':\n",
        "            print(num1, \"-\", num2, \": \", subtract(num1, num2))\n",
        "\n",
        "        elif option == '3':\n",
        "            print(num1, \"*\", num2, \": \", multiply(num1, num2))\n",
        "\n",
        "        elif option == '4':\n",
        "            print(num1, \"/\", num2, \": \", division(num1, num2))\n",
        "\n",
        "\n",
        "        next = input(\"continue calculation ? : , (yes/no):  \")\n",
        "        if next == 'no':\n",
        "            break\n",
        "    else:\n",
        "        print(\"Invalid Input\\n\\n\\n\")"
      ]
    },
    {
      "cell_type": "code",
      "execution_count": null,
      "metadata": {
        "id": "Acb3uoJqj5nw",
        "colab": {
          "base_uri": "https://localhost:8080/",
          "height": 36
        },
        "outputId": "c48119e6-6993-4569-be2d-2a8e2ab4df5f"
      },
      "outputs": [
        {
          "output_type": "execute_result",
          "data": {
            "text/plain": [
              "'deep learning is a type of machine learning that uses artificial neural networks to learn from data.'"
            ],
            "application/vnd.google.colaboratory.intrinsic+json": {
              "type": "string"
            }
          },
          "metadata": {},
          "execution_count": 25
        }
      ],
      "source": [
        "1#Tex Analyzer\n",
        "\n",
        "text = \"Deep learning is a type of machine learning that uses artificial neural networks to learn from data.\"\n",
        "\n",
        "a = text.lower()\n",
        "a"
      ]
    },
    {
      "cell_type": "code",
      "execution_count": null,
      "metadata": {
        "id": "QNJ1j68skArK",
        "colab": {
          "base_uri": "https://localhost:8080/",
          "height": 36
        },
        "outputId": "5b433421-f1eb-4b6d-c63c-48b90492ffed"
      },
      "outputs": [
        {
          "output_type": "execute_result",
          "data": {
            "text/plain": [
              "'DEEP LEARNING IS A TYPE OF MACHINE LEARNING THAT USES ARTIFICIAL NEURAL NETWORKS TO LEARN FROM DATA.'"
            ],
            "application/vnd.google.colaboratory.intrinsic+json": {
              "type": "string"
            }
          },
          "metadata": {},
          "execution_count": 26
        }
      ],
      "source": [
        "b = text.upper()\n",
        "b"
      ]
    },
    {
      "cell_type": "code",
      "execution_count": null,
      "metadata": {
        "id": "Mrjgtc0dkHM5",
        "colab": {
          "base_uri": "https://localhost:8080/",
          "height": 36
        },
        "outputId": "fb9e634e-b9d5-4035-940b-e6783efe5c23"
      },
      "outputs": [
        {
          "output_type": "execute_result",
          "data": {
            "text/plain": [
              "'Deep learning is a type of machine learning that uses artificial neural networks to learn from data.'"
            ],
            "application/vnd.google.colaboratory.intrinsic+json": {
              "type": "string"
            }
          },
          "metadata": {},
          "execution_count": 27
        }
      ],
      "source": [
        "c = text.replace(\"DEEP\", \"MACHINE\")\n",
        "c"
      ]
    },
    {
      "cell_type": "code",
      "execution_count": null,
      "metadata": {
        "id": "bSTcTS34kSu4",
        "colab": {
          "base_uri": "https://localhost:8080/"
        },
        "outputId": "37636e46-0444-4a89-dc23-2f89de174226"
      },
      "outputs": [
        {
          "output_type": "stream",
          "name": "stdout",
          "text": [
            "Deep learning is a type of machine learning that uses artificial neural networks to learn from data.\n"
          ]
        }
      ],
      "source": [
        "print(text)"
      ]
    },
    {
      "cell_type": "code",
      "execution_count": null,
      "metadata": {
        "id": "jz5VyQF5kzYF"
      },
      "outputs": [],
      "source": [
        "#File operations\n",
        "\n",
        "file = open(\"toolkit.txt\")"
      ]
    },
    {
      "cell_type": "code",
      "execution_count": null,
      "metadata": {
        "id": "89aUdRCFmarQ",
        "colab": {
          "base_uri": "https://localhost:8080/"
        },
        "outputId": "d1c9b9ce-409d-4116-84aa-8e501101ebd1"
      },
      "outputs": [
        {
          "output_type": "stream",
          "name": "stdout",
          "text": [
            "Deep learning is a type of machine learning that uses artificial neural networks to learn from data. Artificial neural networks are inspired by the human brain, and they can be used to solve a wide variety of problems, including image recognition, natural language processing, and speech recognition.\n"
          ]
        }
      ],
      "source": [
        "file = open(\"toolkit.txt\", \"r\")\n",
        "#print(file.read())\n",
        "for each in file:\n",
        "  print(each)"
      ]
    },
    {
      "cell_type": "code",
      "execution_count": null,
      "metadata": {
        "id": "5ewmxZCcm1u2"
      },
      "outputs": [],
      "source": [
        "file = open(\"toolkit\", \"w\")\n",
        "file.write(\"This command is use for writing a text or lines in the files\")\n",
        "file.close()\n"
      ]
    },
    {
      "cell_type": "code",
      "execution_count": null,
      "metadata": {
        "id": "kWTKDnyfnW13"
      },
      "outputs": [],
      "source": [
        "file = open(\"toolkit\", \"a\")\n",
        "file.write(\"This will add lines to it\")\n",
        "\n",
        "file.close()"
      ]
    },
    {
      "cell_type": "code",
      "execution_count": null,
      "metadata": {
        "id": "IUmk8To0pGzS"
      },
      "outputs": [],
      "source": [
        "#Password Gnerator\n",
        "\n",
        "import string\n",
        "import random\n",
        "import array"
      ]
    },
    {
      "cell_type": "code",
      "source": [
        "max_length = 10\n",
        "\n",
        "digits = ['0', '1', '2', '3', '4', '5', '6', '7', '8','9']\n",
        "low_case = ['a', 'b', 'c', 'd', 'e', 'f', 'g', 'h', 'i', 'j', 'k', 'm', 'n', 'o', 'p', 'q','r', 's', 't', 'u', 'v', 'w', 'x', 'y','z']\n",
        "upp_case = ['A', 'B', 'C', 'D', 'E', 'F', 'G', 'H', 'I', 'J', 'K', 'M', 'N', 'O', 'P', 'Q','R', 'S', 'T', 'U', 'V', 'W', 'X', 'Y','Z']\n",
        "sp_characters = ['!', '@', '#', '$', '%', '=', ':', '?', '.', '/', '|', '~', '>', '*', '(', ')', '<', '{', '}', '[', ']']\n",
        "\n",
        "combined_list = digits + low_case + upp_case + sp_characters\n",
        "\n",
        "random_digit = random.choice(digits)\n",
        "random_lower_case = random.choice(low_case)\n",
        "random_upper_case = random.choice(upp_case)\n",
        "random_special_characters = random.choice(sp_characters)\n",
        "\n",
        "a = random_digit + random_lower_case + random_upper_case + random_special_characters\n",
        "\n",
        "for x in range (max_length - 4):\n",
        "  a = a + random.choice(combined_list)\n",
        "\n",
        "  a_list = array.array('u', a)\n",
        "  random.shuffle(a_list)\n",
        "\n",
        "password = \"\"\n",
        "\n",
        "for x in a_list:\n",
        "  password = password + x\n",
        "\n",
        "print(password)\n"
      ],
      "metadata": {
        "colab": {
          "base_uri": "https://localhost:8080/"
        },
        "id": "p2AEV0a8kI2q",
        "outputId": "603bd5f7-a528-4a45-9790-53d228e1ef6e"
      },
      "execution_count": null,
      "outputs": [
        {
          "output_type": "stream",
          "name": "stdout",
          "text": [
            "Pfh0!9H?[x\n"
          ]
        }
      ]
    }
  ],
  "metadata": {
    "colab": {
      "provenance": []
    },
    "kernelspec": {
      "display_name": "Python 3",
      "name": "python3"
    },
    "language_info": {
      "name": "python"
    }
  },
  "nbformat": 4,
  "nbformat_minor": 0
}